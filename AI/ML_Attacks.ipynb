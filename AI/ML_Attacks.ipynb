{
  "nbformat": 4,
  "nbformat_minor": 0,
  "metadata": {
    "colab": {
      "name": "Copy of Copy of R&D.ipynb",
      "provenance": [],
      "collapsed_sections": [],
      "toc_visible": true,
      "authorship_tag": "ABX9TyN0YZy8V7M4xY7KV9+WRdsq"
    },
    "kernelspec": {
      "name": "python3",
      "display_name": "Python 3"
    },
    "language_info": {
      "name": "python"
    }
  },
  "cells": [
    {
      "cell_type": "markdown",
      "source": [
        "# AI/ML Attacks"
      ],
      "metadata": {
        "id": "khK4hMEhIss0"
      }
    },
    {
      "cell_type": "markdown",
      "source": [
        "## Perturbation\n",
        "It is a technique of input modification in such a way so that original input retains the semantics but fools the AI/ML model prediction \n",
        "\n",
        "## Image Perturbation\n",
        "In this notebook we will create a Image classifier and later try to perturb (modify) an input image by adding some noise without changing much of its appearnce and fool the classifier to perform incorrect prediction. The technique will be used is FGSM. For more detail on FGSM here is the link to the paper https://arxiv.org/abs/1412.6572 "
      ],
      "metadata": {
        "id": "10TPcKoAI6bU"
      }
    },
    {
      "cell_type": "markdown",
      "source": [
        "### Create a DNN to predict MNIST numbers\n",
        "1. Load MNIST number images DS\n",
        "2. Test/Train\n",
        "3. Create a DNN \n",
        "4. Train accuracy & Test accuracy"
      ],
      "metadata": {
        "id": "Z1MfD3R00NrA"
      }
    },
    {
      "cell_type": "code",
      "source": [
        "#import MNIST DS\n",
        "from tensorflow import keras\n",
        "from tensorflow.keras import datasets\n",
        "from matplotlib import pyplot as plt"
      ],
      "metadata": {
        "id": "RUzBhF3J0otK"
      },
      "execution_count": null,
      "outputs": []
    },
    {
      "cell_type": "code",
      "source": [
        "(X_train, y_train),(X_test, y_test) = datasets.mnist.load_data()\n",
        "X_train.shape, X_test.shape"
      ],
      "metadata": {
        "id": "UckANedJ020O"
      },
      "execution_count": null,
      "outputs": []
    },
    {
      "cell_type": "code",
      "source": [
        "#dataset sample display\n",
        "i=0\n",
        "while i<6 :\n",
        "  plt.subplot(2,3,i+1)\n",
        "  plt.imshow(X_train[i])\n",
        "  plt.title(\"Label \"+str(y_train[i]))\n",
        "  plt.tight_layout()\n",
        "  i=i+1\n"
      ],
      "metadata": {
        "colab": {
          "base_uri": "https://localhost:8080/",
          "height": 297
        },
        "id": "MRWg7xiZADzp",
        "outputId": "bcb7b756-210f-4a1d-9966-0a503f1acf83"
      },
      "execution_count": null,
      "outputs": [
        {
          "output_type": "display_data",
          "data": {
            "image/png": "[encoded data removed]",
            "text/plain": [
              "<Figure size 432x288 with 6 Axes>"
            ]
          },
          "metadata": {
            "needs_background": "light"
          }
        }
      ]
    },
    {
      "cell_type": "code",
      "source": [
        "#normalize as RGB max val is 255\n",
        "X_train = X_train/255\n",
        "X_test = X_test/255"
      ],
      "metadata": {
        "id": "id58w6_T6mih"
      },
      "execution_count": null,
      "outputs": []
    },
    {
      "cell_type": "code",
      "source": [
        "#create a DNN\n",
        "from keras import Sequential, layers\n",
        "X_train[0].shape #input shape"
      ],
      "metadata": {
        "id": "rS95ByPD4y76",
        "colab": {
          "base_uri": "https://localhost:8080/"
        },
        "outputId": "aeaf2a15-2177-4760-de90-5b5dcba297df"
      },
      "execution_count": null,
      "outputs": [
        {
          "output_type": "execute_result",
          "data": {
            "text/plain": [
              "(28, 28)"
            ]
          },
          "metadata": {},
          "execution_count": 240
        }
      ]
    },
    {
      "cell_type": "code",
      "source": [
        "#build model architecture\n",
        "model = keras.Sequential()\n",
        "model.add(keras.layers.Flatten(input_shape=(28,28)))\n",
        "model.add(keras.layers.Dense(3000, activation='relu'))\n",
        "model.add(keras.layers.Dense(3000, activation='relu'))\n",
        "model.add(keras.layers.Dense(10, activation='softmax')) # output that is why 10"
      ],
      "metadata": {
        "id": "itzVkeJP7Bjl"
      },
      "execution_count": null,
      "outputs": []
    },
    {
      "cell_type": "code",
      "source": [
        "model.compile(optimizer='SGD', metrics=['accuracy'], loss='sparse_categorical_crossentropy')"
      ],
      "metadata": {
        "id": "PLyLd1R-OVzJ"
      },
      "execution_count": null,
      "outputs": []
    },
    {
      "cell_type": "code",
      "source": [
        "model.fit(X_train,y_train, epochs=5)"
      ],
      "metadata": {
        "id": "dRdX9mPMOb4F",
        "colab": {
          "base_uri": "https://localhost:8080/"
        },
        "outputId": "17f9d27d-a6f6-4add-f4d9-bf19dda41ee9"
      },
      "execution_count": null,
      "outputs": [
        {
          "output_type": "stream",
          "name": "stdout",
          "text": [
            "Epoch 1/5\n",
            "1875/1875 [==============================] - 140s 74ms/step - loss: 0.5161 - accuracy: 0.8747\n",
            "Epoch 2/5\n",
            "1875/1875 [==============================] - 138s 74ms/step - loss: 0.2569 - accuracy: 0.9271\n",
            "Epoch 3/5\n",
            "1875/1875 [==============================] - 138s 74ms/step - loss: 0.2068 - accuracy: 0.9417\n",
            "Epoch 4/5\n",
            "1875/1875 [==============================] - 138s 74ms/step - loss: 0.1739 - accuracy: 0.9508\n",
            "Epoch 5/5\n",
            "1875/1875 [==============================] - 139s 74ms/step - loss: 0.1496 - accuracy: 0.9579\n"
          ]
        },
        {
          "output_type": "execute_result",
          "data": {
            "text/plain": [
              "<keras.callbacks.History at 0x7fad1c96bb90>"
            ]
          },
          "metadata": {},
          "execution_count": 38
        }
      ]
    },
    {
      "cell_type": "code",
      "source": [
        "# from google.colab import drive\n",
        "# drive.mount('/content/gdrive/')\n",
        "# !ls /content/gdrive/MyDrive/AI-ML_Attack/\n",
        "\n",
        "#model.save(\"/content/gdrive/MyDrive/AI-ML_Attack/ciphar.h5\")"
      ],
      "metadata": {
        "id": "obW7dz_WivQr"
      },
      "execution_count": null,
      "outputs": []
    },
    {
      "cell_type": "code",
      "source": [
        "# # load and evaluate a saved model\n",
        "# from keras.models import load_model\n",
        " \n",
        "# # load model\n",
        "# model = load_model('/content/gdrive/MyDrive/AI-ML_Attack/ciphar.h5')"
      ],
      "metadata": {
        "id": "MaXT7MV41Eyw"
      },
      "execution_count": null,
      "outputs": []
    },
    {
      "cell_type": "code",
      "source": [
        "loss, accuracy = model.evaluate(X_test, y_test)\n",
        "print(\"\\nLoss = \",loss,\"\\n\",\"accuracy = \",accuracy)"
      ],
      "metadata": {
        "colab": {
          "base_uri": "https://localhost:8080/"
        },
        "id": "ZLBhi0P05Vis",
        "outputId": "ccfa2c6f-570d-4bd7-f924-72ba3cb3e914"
      },
      "execution_count": null,
      "outputs": [
        {
          "output_type": "stream",
          "name": "stdout",
          "text": [
            "313/313 [==============================] - 7s 21ms/step - loss: 0.1427 - accuracy: 0.9588\n",
            "\n",
            "Loss =  0.1426878124475479 \n",
            " accuracy =  0.9588000178337097\n"
          ]
        }
      ]
    },
    {
      "cell_type": "code",
      "source": [
        "y_predicted = model.predict(X_test)\n",
        "# y_predicted holds all the y_train predictions\n",
        "y_predicted[0] # first one"
      ],
      "metadata": {
        "colab": {
          "base_uri": "https://localhost:8080/"
        },
        "id": "6duqhP2_yWxY",
        "outputId": "b43f9d13-b685-4eee-d744-eb22913a38c9"
      },
      "execution_count": null,
      "outputs": [
        {
          "output_type": "execute_result",
          "data": {
            "text/plain": [
              "array([9.38920493e-05, 6.99293253e-07, 8.23632639e-04, 2.82462733e-03,\n",
              "       7.19991476e-07, 5.39168468e-05, 1.15630900e-08, 9.95934367e-01,\n",
              "       1.41913515e-05, 2.53985287e-04], dtype=float32)"
            ]
          },
          "metadata": {},
          "execution_count": 64
        }
      ]
    },
    {
      "cell_type": "code",
      "source": [
        "# take a input image X_test[0] and print image along with prediction\n",
        "import numpy as np\n",
        "plt.matshow(X_test[0])\n",
        "print(\"Image Number predicted is ==> \", np.argmax(y_predicted[0]))"
      ],
      "metadata": {
        "colab": {
          "base_uri": "https://localhost:8080/",
          "height": 292
        },
        "id": "e8RGXXKFyZda",
        "outputId": "7a3ab596-fbf2-4a03-bbd0-c37bff1d7f3a"
      },
      "execution_count": null,
      "outputs": [
        {
          "output_type": "stream",
          "name": "stdout",
          "text": [
            "Number predicted is ==>  7\n"
          ]
        },
        {
          "output_type": "display_data",
          "data": {
            "image/png": "[encoded data removed]",
            "text/plain": [
              "<Figure size 288x288 with 1 Axes>"
            ]
          },
          "metadata": {
            "needs_background": "light"
          }
        }
      ]
    },
    {
      "cell_type": "code",
      "source": [
        "# a blank test image\n",
        "#blank_img = np.zeros([28,28])\n",
        "ones_img = np.ones([28,28],dtype=np.uint8)\n",
        "randon_img = np.random.random([28,28])\n",
        "ones_img.shape, randon_img.shape"
      ],
      "metadata": {
        "id": "BRo3DyqpXHHr",
        "colab": {
          "base_uri": "https://localhost:8080/"
        },
        "outputId": "75c60734-f97e-4577-b8ee-d16db21e2478"
      },
      "execution_count": null,
      "outputs": [
        {
          "output_type": "execute_result",
          "data": {
            "text/plain": [
              "((28, 28), (28, 28))"
            ]
          },
          "metadata": {},
          "execution_count": 89
        }
      ]
    },
    {
      "cell_type": "code",
      "source": [
        "images = [randon_img,ones_img]\n",
        "for item in images:\n",
        "  plt.figure(figsize=(2,3))\n",
        "  plt.title(\"Prediction is ==> \"+str(np.argmax(model.predict(item.reshape(1,28,28)))),fontsize=40, color=\"green\", loc='left',pad=10)\n",
        "  plt.imshow(item)"
      ],
      "metadata": {
        "colab": {
          "base_uri": "https://localhost:8080/",
          "height": 385
        },
        "id": "EcfJnN9NTgo8",
        "outputId": "8f799da0-9d8b-4ecf-a657-6adeba973224"
      },
      "execution_count": null,
      "outputs": [
        {
          "output_type": "display_data",
          "data": {
            "image/png": "[encoded data removed]",
            "text/plain": [
              "<Figure size 144x216 with 1 Axes>"
            ]
          },
          "metadata": {
            "needs_background": "light"
          }
        },
        {
          "output_type": "display_data",
          "data": {
            "image/png": "[encoded data removed]",
            "text/plain": [
              "<Figure size 144x216 with 1 Axes>"
            ]
          },
          "metadata": {
            "needs_background": "light"
          }
        }
      ]
    },
    {
      "cell_type": "code",
      "source": [
        "x1 = randon_img.reshape(1,28,28)\n",
        "print(\"randon_img prediction is ==> \",np.argmax(model.predict(x1)))\n",
        "x2 = ones_img.reshape(1,28,28)\n",
        "print(\"one_img prediction is ==> \",np.argmax(model.predict(x2)))"
      ],
      "metadata": {
        "colab": {
          "base_uri": "https://localhost:8080/"
        },
        "id": "QHAOI_kdT4MG",
        "outputId": "6d091eda-17b2-4e81-c0cc-d654f80dd193"
      },
      "execution_count": null,
      "outputs": [
        {
          "output_type": "stream",
          "name": "stdout",
          "text": [
            "randon_img prediction is ==>  3\n",
            "one_img prediction is ==>  3\n"
          ]
        }
      ]
    },
    {
      "cell_type": "markdown",
      "source": [
        "### Applying FGSM  - Fast gradient sign method\n",
        "\n",
        "###      new_adv_image = original_image + ϵ  *  Sign ($∇_{x}$J(θ,x,y))\n",
        "\n",
        "ϵ = just a small number to scale up and down e.g 0.1\n",
        "J(θ,x,y) = Loss function, in which theta represnts parameters, x represnts input to the model & y is output (label)\n",
        "\n",
        "$∇_{x}$ = represnt the gradient of the above cost function. And Sign we take to limit it to matrix of range (-1,1)\n"
      ],
      "metadata": {
        "id": "2u2XMX8qbn-D"
      }
    },
    {
      "cell_type": "code",
      "source": [
        "#lets take one example of test dataset\n",
        "plt.ti\n",
        "plt.imshow(X_test[0])\n",
        "y_predicted = model(X_test)\n",
        "print(\"probs ==> \",y_predicted[0])\n",
        "print(\"\\nNumber predicted by AI/ML is ==> \", np.argmax(y_predicted[0]))"
      ],
      "metadata": {
        "colab": {
          "base_uri": "https://localhost:8080/",
          "height": 369
        },
        "id": "EcYCVtD1px78",
        "outputId": "74023be6-4e32-4c34-c810-2318c028694a"
      },
      "execution_count": null,
      "outputs": [
        {
          "output_type": "stream",
          "name": "stdout",
          "text": [
            "probs ==>  tf.Tensor(\n",
            "[9.38920493e-05 6.99293253e-07 8.23633047e-04 2.82463152e-03\n",
            " 7.19990737e-07 5.39168468e-05 1.15631122e-08 9.95934367e-01\n",
            " 1.41913515e-05 2.53985287e-04], shape=(10,), dtype=float32)\n",
            "\n",
            "Number predicted by AI/ML is ==>  7\n"
          ]
        },
        {
          "output_type": "display_data",
          "data": {
            "image/png": "[encoded data removed]",
            "text/plain": [
              "<Figure size 432x288 with 1 Axes>"
            ]
          },
          "metadata": {
            "needs_background": "light"
          }
        }
      ]
    },
    {
      "cell_type": "code",
      "source": [
        "def adversarial_pattern(image, label):#, model):\n",
        "    image = tensorflow.cast(image, tensorflow.float32)\n",
        "    # print(type(image))\n",
        "    \n",
        "    with tensorflow.GradientTape() as tape:\n",
        "        tape.watch(image)\n",
        "        prediction = model(image)\n",
        "        loss = tensorflow.keras.losses.sparse_categorical_crossentropy(label, prediction)\n",
        "    \n",
        "    gradient = tape.gradient(loss, image)\n",
        "    signed_grad = tensorflow.sign(gradient)\n",
        "    return signed_grad\n",
        "    "
      ],
      "metadata": {
        "id": "0MRzBmR9m9ZC"
      },
      "execution_count": null,
      "outputs": []
    },
    {
      "cell_type": "code",
      "source": [
        "import tensorflow\n",
        "#perturb corresponding label\n",
        "label = y_train[0]\n",
        "\n",
        "#creating perturb noise\n",
        "perturbations = adversarial_pattern(X_train[0].reshape((1, 28, 28)), label).numpy()\n",
        "\n",
        "#display the noise       \n",
        "plt.imshow(perturbations[0]);"
      ],
      "metadata": {
        "colab": {
          "base_uri": "https://localhost:8080/",
          "height": 265
        },
        "id": "2hxGjXVCnMTD",
        "outputId": "831ba5b2-5321-4f32-90f5-e696e882506e"
      },
      "execution_count": null,
      "outputs": [
        {
          "output_type": "display_data",
          "data": {
            "image/png": "[encoded data removed]",
            "text/plain": [
              "<Figure size 432x288 with 1 Axes>"
            ]
          },
          "metadata": {
            "needs_background": "light"
          }
        }
      ]
    },
    {
      "cell_type": "code",
      "source": [
        "#Now , add the above noise to actual image (labelled one)\n",
        "label = y_train[0]\n",
        "image = X_train[0]\n",
        "\n",
        "# small number to scale up and down\n",
        "epsilon = 0.04\n",
        "\n",
        "# adversarial image as per FGSM method\n",
        "adversarial = image + perturbations * epsilon\n",
        "\n",
        "#plt.imshow(adversarial[0])\n",
        "fig = plt.figure()\n",
        "img1 = fig.add_subplot(1,2,1)\n",
        "plt.title(\"Real Image\")\n",
        "img1.imshow(image)\n",
        "plt.axis('off')\n",
        "\n",
        "img2 = fig.add_subplot(1,2,2)\n",
        "plt.title(\"Perturbed image\")\n",
        "img2.imshow(adversarial[0])\n",
        "plt.axis('off')\n",
        "\n",
        "plt.show()\n"
      ],
      "metadata": {
        "colab": {
          "base_uri": "https://localhost:8080/",
          "height": 199
        },
        "id": "8ELxA7ESntOD",
        "outputId": "a2ec7ec7-9f43-494e-fb59-682039579328"
      },
      "execution_count": null,
      "outputs": [
        {
          "output_type": "display_data",
          "data": {
            "image/png": "[encoded data removed]",
            "text/plain": [
              "<Figure size 432x288 with 2 Axes>"
            ]
          },
          "metadata": {
            "needs_background": "light"
          }
        }
      ]
    },
    {
      "cell_type": "code",
      "source": [
        "probs = model.predict(adversarial[0].reshape(1,28,28))\n",
        "print('Confidence for 5:', np.max(probs[:, 5]))\n",
        "print('Confidence for 3:', np.max(probs[:, 3]))\n",
        "plt.ylabel('Predicted label by AI/ML is => '+str(np.argmax(model.predict(adversarial[0].reshape(1,28,28)))), labelpad=-570, fontsize=40, rotation=0, color=\"green\")\n",
        "#plt.axis('off')\n",
        "plt.imshow(adversarial[0]);"
      ],
      "metadata": {
        "colab": {
          "base_uri": "https://localhost:8080/",
          "height": 300
        },
        "id": "iimi3rB46JJG",
        "outputId": "c13677cd-a7da-461f-f868-638bb6e351d2"
      },
      "execution_count": null,
      "outputs": [
        {
          "output_type": "stream",
          "name": "stdout",
          "text": [
            "Confidence for 5: 0.28507337\n",
            "Confidence for 3: 0.7088019\n"
          ]
        },
        {
          "output_type": "display_data",
          "data": {
            "image/png": "[encoded data removed]",
            "text/plain": [
              "<Figure size 432x288 with 1 Axes>"
            ]
          },
          "metadata": {
            "needs_background": "light"
          }
        }
      ]
    },
    {
      "cell_type": "markdown",
      "source": [
        "#================================="
      ],
      "metadata": {
        "id": "SglJdUp8-6y7"
      }
    }
  ]
}
